{
 "cells": [
  {
   "cell_type": "code",
   "execution_count": 1,
   "id": "fewer-orientation",
   "metadata": {},
   "outputs": [
    {
     "data": {
      "text/plain": [
       "[0,\n",
       " 2,\n",
       " 4,\n",
       " 6,\n",
       " 8,\n",
       " 10,\n",
       " 12,\n",
       " 14,\n",
       " 16,\n",
       " 18,\n",
       " 20,\n",
       " 22,\n",
       " 24,\n",
       " 26,\n",
       " 28,\n",
       " 30,\n",
       " 32,\n",
       " 34,\n",
       " 36,\n",
       " 38,\n",
       " 40,\n",
       " 42,\n",
       " 44,\n",
       " 46,\n",
       " 48,\n",
       " 50,\n",
       " 52,\n",
       " 54,\n",
       " 56,\n",
       " 58,\n",
       " 60,\n",
       " 62,\n",
       " 64,\n",
       " 66,\n",
       " 68,\n",
       " 70,\n",
       " 72,\n",
       " 74,\n",
       " 76,\n",
       " 78,\n",
       " 80,\n",
       " 82,\n",
       " 84,\n",
       " 86,\n",
       " 88,\n",
       " 90,\n",
       " 92,\n",
       " 94,\n",
       " 96,\n",
       " 98]"
      ]
     },
     "execution_count": 1,
     "metadata": {},
     "output_type": "execute_result"
    }
   ],
   "source": [
    "[i for i in range(100) if i%2==0]"
   ]
  },
  {
   "cell_type": "code",
   "execution_count": 2,
   "id": "comparative-swimming",
   "metadata": {},
   "outputs": [],
   "source": [
    "def myfunc():\n",
    "    return \"hi\""
   ]
  },
  {
   "cell_type": "code",
   "execution_count": 3,
   "id": "electric-lambda",
   "metadata": {},
   "outputs": [
    {
     "data": {
      "text/plain": [
       "'hi'"
      ]
     },
     "execution_count": 3,
     "metadata": {},
     "output_type": "execute_result"
    }
   ],
   "source": [
    "myfunc()"
   ]
  },
  {
   "cell_type": "code",
   "execution_count": 5,
   "id": "occupational-consolidation",
   "metadata": {},
   "outputs": [],
   "source": [
    "def add(a,b):\n",
    "    return a+b"
   ]
  },
  {
   "cell_type": "code",
   "execution_count": 7,
   "id": "spatial-convergence",
   "metadata": {},
   "outputs": [
    {
     "data": {
      "text/plain": [
       "9"
      ]
     },
     "execution_count": 7,
     "metadata": {},
     "output_type": "execute_result"
    }
   ],
   "source": [
    "add(2,7)"
   ]
  },
  {
   "cell_type": "code",
   "execution_count": 9,
   "id": "promising-transaction",
   "metadata": {},
   "outputs": [],
   "source": [
    "# add\n",
    "# sub\n",
    "# div\n",
    "# ** exponentiation\n",
    "# mul\n",
    "# a%b==0\n"
   ]
  },
  {
   "cell_type": "code",
   "execution_count": 12,
   "id": "coral-coach",
   "metadata": {},
   "outputs": [
    {
     "data": {
      "text/plain": [
       "12"
      ]
     },
     "execution_count": 12,
     "metadata": {},
     "output_type": "execute_result"
    }
   ],
   "source": [
    "def add(a,b):\n",
    "    return a+b\n",
    "add(3,9)"
   ]
  },
  {
   "cell_type": "code",
   "execution_count": 13,
   "id": "therapeutic-trinidad",
   "metadata": {},
   "outputs": [
    {
     "data": {
      "text/plain": [
       "2"
      ]
     },
     "execution_count": 13,
     "metadata": {},
     "output_type": "execute_result"
    }
   ],
   "source": [
    "def sub(a,b):\n",
    "    return a-b\n",
    "sub(5,3)"
   ]
  },
  {
   "cell_type": "code",
   "execution_count": 14,
   "id": "blocked-powder",
   "metadata": {},
   "outputs": [
    {
     "data": {
      "text/plain": [
       "24"
      ]
     },
     "execution_count": 14,
     "metadata": {},
     "output_type": "execute_result"
    }
   ],
   "source": [
    "def multiplication(a,b):\n",
    "    return a*b\n",
    "multiplication(8,3)"
   ]
  },
  {
   "cell_type": "code",
   "execution_count": 15,
   "id": "bound-southeast",
   "metadata": {},
   "outputs": [
    {
     "data": {
      "text/plain": [
       "10.0"
      ]
     },
     "execution_count": 15,
     "metadata": {},
     "output_type": "execute_result"
    }
   ],
   "source": [
    "def div(a,b):\n",
    "    return a/b\n",
    "div(50,5)"
   ]
  },
  {
   "cell_type": "code",
   "execution_count": 19,
   "id": "aggressive-cedar",
   "metadata": {},
   "outputs": [
    {
     "data": {
      "text/plain": [
       "19683"
      ]
     },
     "execution_count": 19,
     "metadata": {},
     "output_type": "execute_result"
    }
   ],
   "source": [
    "def expo(a,b):\n",
    "    return a**b\n",
    "expo(3,9)"
   ]
  },
  {
   "cell_type": "code",
   "execution_count": 22,
   "id": "middle-integer",
   "metadata": {},
   "outputs": [
    {
     "data": {
      "text/plain": [
       "False"
      ]
     },
     "execution_count": 22,
     "metadata": {},
     "output_type": "execute_result"
    }
   ],
   "source": [
    "def mod(a,b):\n",
    "    return a%b==0\n",
    "mod(4,8)"
   ]
  },
  {
   "cell_type": "code",
   "execution_count": null,
   "id": "numerous-rapid",
   "metadata": {},
   "outputs": [],
   "source": []
  }
 ],
 "metadata": {
  "kernelspec": {
   "display_name": "Python 3",
   "language": "python",
   "name": "python3"
  },
  "language_info": {
   "codemirror_mode": {
    "name": "ipython",
    "version": 3
   },
   "file_extension": ".py",
   "mimetype": "text/x-python",
   "name": "python",
   "nbconvert_exporter": "python",
   "pygments_lexer": "ipython3",
   "version": "3.8.7"
  }
 },
 "nbformat": 4,
 "nbformat_minor": 5
}
