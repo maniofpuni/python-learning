{
 "cells": [
  {
   "cell_type": "code",
   "execution_count": 1,
   "id": "frequent-quick",
   "metadata": {},
   "outputs": [
    {
     "data": {
      "text/plain": [
       "10"
      ]
     },
     "execution_count": 1,
     "metadata": {},
     "output_type": "execute_result"
    }
   ],
   "source": [
    "def add(a,b,c,d):\n",
    "    return a+b+c+d\n",
    "add(1,2,3,4)"
   ]
  },
  {
   "cell_type": "code",
   "execution_count": 2,
   "id": "indonesian-break",
   "metadata": {},
   "outputs": [],
   "source": [
    "data=['mani','ram','ravi','sasi','sujay','anu','prem','gobi']\n"
   ]
  },
  {
   "cell_type": "code",
   "execution_count": 3,
   "id": "changing-johnston",
   "metadata": {},
   "outputs": [
    {
     "data": {
      "text/plain": [
       "8"
      ]
     },
     "execution_count": 3,
     "metadata": {},
     "output_type": "execute_result"
    }
   ],
   "source": [
    "# calculate length in python\n",
    "len(data)"
   ]
  },
  {
   "cell_type": "code",
   "execution_count": 4,
   "id": "egyptian-compression",
   "metadata": {},
   "outputs": [],
   "source": [
    "mani='jhergfgr4jgfr4jgftr4cjght54ht5kjhtgjkt54hjgkvvvvvvvvvvvvvvvghjkrthgkjtrhjkghjtrkhgjktrkjgvtrcjhg'"
   ]
  },
  {
   "cell_type": "code",
   "execution_count": 5,
   "id": "partial-current",
   "metadata": {},
   "outputs": [
    {
     "data": {
      "text/plain": [
       "96"
      ]
     },
     "execution_count": 5,
     "metadata": {},
     "output_type": "execute_result"
    }
   ],
   "source": [
    "len(mani)"
   ]
  },
  {
   "cell_type": "code",
   "execution_count": 14,
   "id": "simplified-nudist",
   "metadata": {},
   "outputs": [],
   "source": [
    "data=['mani','ram','ravi','sasi','sujay','anu','prem','gobi']\n"
   ]
  },
  {
   "cell_type": "code",
   "execution_count": 13,
   "id": "tropical-macintosh",
   "metadata": {},
   "outputs": [
    {
     "ename": "SyntaxError",
     "evalue": "unexpected EOF while parsing (<ipython-input-13-2b3e020e5cc4>, line 3)",
     "output_type": "error",
     "traceback": [
      "\u001b[1;36m  File \u001b[1;32m\"<ipython-input-13-2b3e020e5cc4>\"\u001b[1;36m, line \u001b[1;32m3\u001b[0m\n\u001b[1;33m    \u001b[0m\n\u001b[1;37m    ^\u001b[0m\n\u001b[1;31mSyntaxError\u001b[0m\u001b[1;31m:\u001b[0m unexpected EOF while parsing\n"
     ]
    }
   ],
   "source": [
    "for i in data:\n",
    "    if i[0]=='s':\n",
    "\n",
    "        "
   ]
  },
  {
   "cell_type": "code",
   "execution_count": 7,
   "id": "liable-windsor",
   "metadata": {},
   "outputs": [
    {
     "data": {
      "text/plain": [
       "'j'"
      ]
     },
     "execution_count": 7,
     "metadata": {},
     "output_type": "execute_result"
    }
   ],
   "source": [
    "mani[0]"
   ]
  },
  {
   "cell_type": "code",
   "execution_count": 10,
   "id": "nasty-strip",
   "metadata": {},
   "outputs": [
    {
     "data": {
      "text/plain": [
       "['sasi', 'sujay']"
      ]
     },
     "execution_count": 10,
     "metadata": {},
     "output_type": "execute_result"
    }
   ],
   "source": [
    "[i for i in data if i[0]=='s']\n",
    " "
   ]
  },
  {
   "cell_type": "code",
   "execution_count": 22,
   "id": "constant-glass",
   "metadata": {},
   "outputs": [],
   "source": [
    "data=['mani','ram','ravi','sasi','sujay','anu','prem','gobi','zero','zeepra']\n",
    "    \n"
   ]
  },
  {
   "cell_type": "code",
   "execution_count": 23,
   "id": "running-revision",
   "metadata": {},
   "outputs": [
    {
     "data": {
      "text/plain": [
       "['zero', 'zeepra']"
      ]
     },
     "execution_count": 23,
     "metadata": {},
     "output_type": "execute_result"
    }
   ],
   "source": [
    "[i for i in data if i[0]=='z']"
   ]
  },
  {
   "cell_type": "code",
   "execution_count": 25,
   "id": "hawaiian-scale",
   "metadata": {},
   "outputs": [
    {
     "data": {
      "text/plain": [
       "['mani', 'ravi', 'sasi', 'gobi']"
      ]
     },
     "execution_count": 25,
     "metadata": {},
     "output_type": "execute_result"
    }
   ],
   "source": [
    "[i for i in data if i[-1]=='i']"
   ]
  },
  {
   "cell_type": "code",
   "execution_count": 26,
   "id": "hispanic-tiger",
   "metadata": {},
   "outputs": [
    {
     "data": {
      "text/plain": [
       "['mani', 'ram', 'ravi', 'sasi']"
      ]
     },
     "execution_count": 26,
     "metadata": {},
     "output_type": "execute_result"
    }
   ],
   "source": [
    "[i for i in data if i[1]=='a']"
   ]
  },
  {
   "cell_type": "code",
   "execution_count": 27,
   "id": "alpine-album",
   "metadata": {},
   "outputs": [
    {
     "data": {
      "text/plain": [
       "['mani', 'ravi', 'sasi']"
      ]
     },
     "execution_count": 27,
     "metadata": {},
     "output_type": "execute_result"
    }
   ],
   "source": [
    "[i for i in data if i[1]=='a' and i[-1]=='i']"
   ]
  },
  {
   "cell_type": "code",
   "execution_count": 31,
   "id": "comparable-exercise",
   "metadata": {},
   "outputs": [
    {
     "data": {
      "text/plain": [
       "['ravi']"
      ]
     },
     "execution_count": 31,
     "metadata": {},
     "output_type": "execute_result"
    }
   ],
   "source": [
    "[i for i in data if i[0]=='r' and i[-1]=='i']"
   ]
  },
  {
   "cell_type": "code",
   "execution_count": 29,
   "id": "abroad-conspiracy",
   "metadata": {},
   "outputs": [
    {
     "data": {
      "text/plain": [
       "['mani',\n",
       " 'ram',\n",
       " 'ravi',\n",
       " 'sasi',\n",
       " 'sujay',\n",
       " 'anu',\n",
       " 'prem',\n",
       " 'gobi',\n",
       " 'zero',\n",
       " 'zeepra']"
      ]
     },
     "execution_count": 29,
     "metadata": {},
     "output_type": "execute_result"
    }
   ],
   "source": [
    "data"
   ]
  },
  {
   "cell_type": "code",
   "execution_count": 35,
   "id": "complete-officer",
   "metadata": {},
   "outputs": [
    {
     "data": {
      "text/plain": [
       "'prem'"
      ]
     },
     "execution_count": 35,
     "metadata": {},
     "output_type": "execute_result"
    }
   ],
   "source": [
    "'a' in data[6]"
   ]
  },
  {
   "cell_type": "code",
   "execution_count": 36,
   "id": "latest-rating",
   "metadata": {},
   "outputs": [
    {
     "data": {
      "text/plain": [
       "['mani', 'ram', 'ravi', 'sasi', 'sujay', 'anu', 'zeepra']"
      ]
     },
     "execution_count": 36,
     "metadata": {},
     "output_type": "execute_result"
    }
   ],
   "source": [
    "[i for i in data if 'a' in i]"
   ]
  },
  {
   "cell_type": "code",
   "execution_count": 2,
   "id": "developing-marathon",
   "metadata": {},
   "outputs": [
    {
     "data": {
      "text/plain": [
       "93"
      ]
     },
     "execution_count": 2,
     "metadata": {},
     "output_type": "execute_result"
    }
   ],
   "source": [
    "bhuvi='xhahhshcioiicsphciwsxhfefjirigrefjfoweiogiwei0geghiueug0ew0gjewjgj0jew0jyj-wewjgjwehwewjhj0jw'\n",
    "len(bhuvi)"
   ]
  },
  {
   "cell_type": "code",
   "execution_count": 5,
   "id": "broadband-exchange",
   "metadata": {},
   "outputs": [
    {
     "data": {
      "text/plain": [
       "97"
      ]
     },
     "execution_count": 5,
     "metadata": {},
     "output_type": "execute_result"
    }
   ],
   "source": [
    "maha='bhuvimahaammjjjsacjsjcjsjsjccjsiiiiiiiiiiiiiiiiiiiiiiiiiiiiiiiiiiiiiiiiiiiiiiiiiiiiiiiiiiiiiiiiii'\n",
    "len(maha)"
   ]
  },
  {
   "cell_type": "code",
   "execution_count": 6,
   "id": "photographic-swedish",
   "metadata": {},
   "outputs": [],
   "source": [
    "anu='hhdhefjefejfj'"
   ]
  },
  {
   "cell_type": "code",
   "execution_count": 7,
   "id": "together-clone",
   "metadata": {},
   "outputs": [
    {
     "data": {
      "text/plain": [
       "13"
      ]
     },
     "execution_count": 7,
     "metadata": {},
     "output_type": "execute_result"
    }
   ],
   "source": [
    "len(anu)"
   ]
  },
  {
   "cell_type": "code",
   "execution_count": 8,
   "id": "graduate-badge",
   "metadata": {},
   "outputs": [
    {
     "data": {
      "text/plain": [
       "21"
      ]
     },
     "execution_count": 8,
     "metadata": {},
     "output_type": "execute_result"
    }
   ],
   "source": [
    "sujay='ffeejfjfiiffiiwfiiiff'\n",
    "len(sujay)"
   ]
  },
  {
   "cell_type": "code",
   "execution_count": 38,
   "id": "built-facial",
   "metadata": {},
   "outputs": [
    {
     "data": {
      "text/plain": [
       "['prem', 'zero', 'zeepra']"
      ]
     },
     "execution_count": 38,
     "metadata": {},
     "output_type": "execute_result"
    }
   ],
   "source": [
    "[i for i in data if 'e' in i]"
   ]
  },
  {
   "cell_type": "code",
   "execution_count": 40,
   "id": "bridal-landing",
   "metadata": {},
   "outputs": [
    {
     "data": {
      "text/plain": [
       "['zeepra']"
      ]
     },
     "execution_count": 40,
     "metadata": {},
     "output_type": "execute_result"
    }
   ],
   "source": [
    "[i for i in data if 'ee' in i]"
   ]
  },
  {
   "cell_type": "code",
   "execution_count": 43,
   "id": "conservative-approval",
   "metadata": {},
   "outputs": [
    {
     "data": {
      "text/plain": [
       "True"
      ]
     },
     "execution_count": 43,
     "metadata": {},
     "output_type": "execute_result"
    }
   ],
   "source": [
    "1 in [1,2,3,4,5]"
   ]
  },
  {
   "cell_type": "code",
   "execution_count": 44,
   "id": "constitutional-likelihood",
   "metadata": {},
   "outputs": [],
   "source": [
    "a= [1,2,3,4]"
   ]
  },
  {
   "cell_type": "code",
   "execution_count": 46,
   "id": "directed-limitation",
   "metadata": {},
   "outputs": [
    {
     "data": {
      "text/plain": [
       "True"
      ]
     },
     "execution_count": 46,
     "metadata": {},
     "output_type": "execute_result"
    }
   ],
   "source": [
    "a[0]==1"
   ]
  },
  {
   "cell_type": "code",
   "execution_count": 9,
   "id": "municipal-cycle",
   "metadata": {},
   "outputs": [
    {
     "data": {
      "text/plain": [
       "False"
      ]
     },
     "execution_count": 9,
     "metadata": {},
     "output_type": "execute_result"
    }
   ],
   "source": [
    "a=[2,4,6,8,10]\n",
    "a[3]==2"
   ]
  },
  {
   "cell_type": "code",
   "execution_count": 10,
   "id": "intensive-entity",
   "metadata": {},
   "outputs": [
    {
     "data": {
      "text/plain": [
       "True"
      ]
     },
     "execution_count": 10,
     "metadata": {},
     "output_type": "execute_result"
    }
   ],
   "source": [
    "a=[1,2,3,4,5,6,7]\n",
    "a[2]==3"
   ]
  },
  {
   "cell_type": "code",
   "execution_count": 11,
   "id": "passing-notebook",
   "metadata": {},
   "outputs": [
    {
     "data": {
      "text/plain": [
       "False"
      ]
     },
     "execution_count": 11,
     "metadata": {},
     "output_type": "execute_result"
    }
   ],
   "source": [
    "4 in [1,2,3,5]"
   ]
  },
  {
   "cell_type": "code",
   "execution_count": 12,
   "id": "animal-intent",
   "metadata": {},
   "outputs": [
    {
     "data": {
      "text/plain": [
       "True"
      ]
     },
     "execution_count": 12,
     "metadata": {},
     "output_type": "execute_result"
    }
   ],
   "source": [
    "5 in [1,2,5,6]"
   ]
  },
  {
   "cell_type": "code",
   "execution_count": 14,
   "id": "exotic-cooper",
   "metadata": {},
   "outputs": [],
   "source": [
    "kkc=['maha','bhuvi','gayu','divi','princy','kiruthi']"
   ]
  },
  {
   "cell_type": "code",
   "execution_count": 16,
   "id": "sunrise-crest",
   "metadata": {},
   "outputs": [
    {
     "data": {
      "text/plain": [
       "['maha', 'bhuvi', 'kiruthi']"
      ]
     },
     "execution_count": 16,
     "metadata": {},
     "output_type": "execute_result"
    }
   ],
   "source": [
    "[i for i in kkc if 'h' in i]"
   ]
  },
  {
   "cell_type": "code",
   "execution_count": 18,
   "id": "convinced-wayne",
   "metadata": {},
   "outputs": [
    {
     "data": {
      "text/plain": [
       "['maha']"
      ]
     },
     "execution_count": 18,
     "metadata": {},
     "output_type": "execute_result"
    }
   ],
   "source": [
    "[i for i in kkc if i[-1]=='a']"
   ]
  },
  {
   "cell_type": "code",
   "execution_count": 22,
   "id": "robust-phrase",
   "metadata": {},
   "outputs": [
    {
     "data": {
      "text/plain": [
       "['maha']"
      ]
     },
     "execution_count": 22,
     "metadata": {},
     "output_type": "execute_result"
    }
   ],
   "source": [
    "[i for i in kkc if i[0]=='m' and i[-1]=='a']"
   ]
  },
  {
   "cell_type": "code",
   "execution_count": 23,
   "id": "happy-combining",
   "metadata": {},
   "outputs": [
    {
     "data": {
      "text/plain": [
       "['bhuvi']"
      ]
     },
     "execution_count": 23,
     "metadata": {},
     "output_type": "execute_result"
    }
   ],
   "source": [
    "[i for i in kkc if i[0]=='b' and i[-1]=='i']"
   ]
  },
  {
   "cell_type": "code",
   "execution_count": 26,
   "id": "swedish-hazard",
   "metadata": {},
   "outputs": [
    {
     "data": {
      "text/plain": [
       "['bhuvi', 'divi', 'princy', 'kiruthi']"
      ]
     },
     "execution_count": 26,
     "metadata": {},
     "output_type": "execute_result"
    }
   ],
   "source": [
    "[i for i in kkc if 'i' in i]"
   ]
  },
  {
   "cell_type": "code",
   "execution_count": 27,
   "id": "received-karaoke",
   "metadata": {},
   "outputs": [
    {
     "data": {
      "text/plain": [
       "['princy']"
      ]
     },
     "execution_count": 27,
     "metadata": {},
     "output_type": "execute_result"
    }
   ],
   "source": [
    "[i for i in kkc if 'p' in i]"
   ]
  },
  {
   "cell_type": "code",
   "execution_count": 28,
   "id": "charitable-nursery",
   "metadata": {},
   "outputs": [
    {
     "data": {
      "text/plain": [
       "['maha', 'gayu']"
      ]
     },
     "execution_count": 28,
     "metadata": {},
     "output_type": "execute_result"
    }
   ],
   "source": [
    "[i for i in kkc if i[1]=='a']"
   ]
  },
  {
   "cell_type": "code",
   "execution_count": null,
   "id": "continental-passion",
   "metadata": {},
   "outputs": [],
   "source": []
  }
 ],
 "metadata": {
  "kernelspec": {
   "display_name": "Python 3",
   "language": "python",
   "name": "python3"
  },
  "language_info": {
   "codemirror_mode": {
    "name": "ipython",
    "version": 3
   },
   "file_extension": ".py",
   "mimetype": "text/x-python",
   "name": "python",
   "nbconvert_exporter": "python",
   "pygments_lexer": "ipython3",
   "version": "3.8.7"
  }
 },
 "nbformat": 4,
 "nbformat_minor": 5
}
