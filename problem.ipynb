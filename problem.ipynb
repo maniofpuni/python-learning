{
 "cells": [
  {
   "cell_type": "code",
   "execution_count": 1,
   "id": "frequent-quick",
   "metadata": {},
   "outputs": [
    {
     "data": {
      "text/plain": [
       "10"
      ]
     },
     "execution_count": 1,
     "metadata": {},
     "output_type": "execute_result"
    }
   ],
   "source": [
    "def add(a,b,c,d):\n",
    "    return a+b+c+d\n",
    "add(1,2,3,4)"
   ]
  },
  {
   "cell_type": "code",
   "execution_count": 2,
   "id": "indonesian-break",
   "metadata": {},
   "outputs": [],
   "source": [
    "data=['mani','ram','ravi','sasi','sujay','anu','prem','gobi']\n"
   ]
  },
  {
   "cell_type": "code",
   "execution_count": 3,
   "id": "changing-johnston",
   "metadata": {},
   "outputs": [
    {
     "data": {
      "text/plain": [
       "8"
      ]
     },
     "execution_count": 3,
     "metadata": {},
     "output_type": "execute_result"
    }
   ],
   "source": [
    "# calculate length in python\n",
    "len(data)"
   ]
  },
  {
   "cell_type": "code",
   "execution_count": 4,
   "id": "egyptian-compression",
   "metadata": {},
   "outputs": [],
   "source": [
    "mani='jhergfgr4jgfr4jgftr4cjght54ht5kjhtgjkt54hjgkvvvvvvvvvvvvvvvghjkrthgkjtrhjkghjtrkhgjktrkjgvtrcjhg'"
   ]
  },
  {
   "cell_type": "code",
   "execution_count": 5,
   "id": "partial-current",
   "metadata": {},
   "outputs": [
    {
     "data": {
      "text/plain": [
       "96"
      ]
     },
     "execution_count": 5,
     "metadata": {},
     "output_type": "execute_result"
    }
   ],
   "source": [
    "len(mani)"
   ]
  },
  {
   "cell_type": "code",
   "execution_count": 14,
   "id": "simplified-nudist",
   "metadata": {},
   "outputs": [],
   "source": [
    "data=['mani','ram','ravi','sasi','sujay','anu','prem','gobi']\n"
   ]
  },
  {
   "cell_type": "code",
   "execution_count": 13,
   "id": "tropical-macintosh",
   "metadata": {},
   "outputs": [
    {
     "name": "stdout",
     "output_type": "stream",
     "text": [
      "mani a\n",
      "ram a\n",
      "ravi a\n",
      "sasi a\n",
      "sujay u\n",
      "anu n\n",
      "prem r\n",
      "gobi o\n"
     ]
    }
   ],
   "source": [
    "for i in data:\n",
    "    if i[0]=='s':\n",
    "        "
   ]
  },
  {
   "cell_type": "code",
   "execution_count": 7,
   "id": "liable-windsor",
   "metadata": {},
   "outputs": [
    {
     "data": {
      "text/plain": [
       "'j'"
      ]
     },
     "execution_count": 7,
     "metadata": {},
     "output_type": "execute_result"
    }
   ],
   "source": [
    "mani[0]"
   ]
  },
  {
   "cell_type": "code",
   "execution_count": 10,
   "id": "nasty-strip",
   "metadata": {},
   "outputs": [
    {
     "data": {
      "text/plain": [
       "['sasi', 'sujay']"
      ]
     },
     "execution_count": 10,
     "metadata": {},
     "output_type": "execute_result"
    }
   ],
   "source": [
    "[i for i in data if i[0]=='s']\n",
    " "
   ]
  },
  {
   "cell_type": "code",
   "execution_count": 22,
   "id": "constant-glass",
   "metadata": {},
   "outputs": [],
   "source": [
    "data=['mani','ram','ravi','sasi','sujay','anu','prem','gobi','zero','zeepra']\n",
    "    \n"
   ]
  },
  {
   "cell_type": "code",
   "execution_count": 23,
   "id": "running-revision",
   "metadata": {},
   "outputs": [
    {
     "data": {
      "text/plain": [
       "['zero', 'zeepra']"
      ]
     },
     "execution_count": 23,
     "metadata": {},
     "output_type": "execute_result"
    }
   ],
   "source": [
    "[i for i in data if i[0]=='z']"
   ]
  },
  {
   "cell_type": "code",
   "execution_count": 25,
   "id": "hawaiian-scale",
   "metadata": {},
   "outputs": [
    {
     "data": {
      "text/plain": [
       "['mani', 'ravi', 'sasi', 'gobi']"
      ]
     },
     "execution_count": 25,
     "metadata": {},
     "output_type": "execute_result"
    }
   ],
   "source": [
    "[i for i in data if i[-1]=='i']"
   ]
  },
  {
   "cell_type": "code",
   "execution_count": 26,
   "id": "hispanic-tiger",
   "metadata": {},
   "outputs": [
    {
     "data": {
      "text/plain": [
       "['mani', 'ram', 'ravi', 'sasi']"
      ]
     },
     "execution_count": 26,
     "metadata": {},
     "output_type": "execute_result"
    }
   ],
   "source": [
    "[i for i in data if i[1]=='a']"
   ]
  },
  {
   "cell_type": "code",
   "execution_count": 27,
   "id": "alpine-album",
   "metadata": {},
   "outputs": [
    {
     "data": {
      "text/plain": [
       "['mani', 'ravi', 'sasi']"
      ]
     },
     "execution_count": 27,
     "metadata": {},
     "output_type": "execute_result"
    }
   ],
   "source": [
    "[i for i in data if i[1]=='a' and i[-1]=='i']"
   ]
  },
  {
   "cell_type": "code",
   "execution_count": 31,
   "id": "comparable-exercise",
   "metadata": {},
   "outputs": [
    {
     "data": {
      "text/plain": [
       "['ravi']"
      ]
     },
     "execution_count": 31,
     "metadata": {},
     "output_type": "execute_result"
    }
   ],
   "source": [
    "[i for i in data if i[0]=='r' and i[-1]=='i']"
   ]
  },
  {
   "cell_type": "code",
   "execution_count": 29,
   "id": "abroad-conspiracy",
   "metadata": {},
   "outputs": [
    {
     "data": {
      "text/plain": [
       "['mani',\n",
       " 'ram',\n",
       " 'ravi',\n",
       " 'sasi',\n",
       " 'sujay',\n",
       " 'anu',\n",
       " 'prem',\n",
       " 'gobi',\n",
       " 'zero',\n",
       " 'zeepra']"
      ]
     },
     "execution_count": 29,
     "metadata": {},
     "output_type": "execute_result"
    }
   ],
   "source": [
    "data"
   ]
  },
  {
   "cell_type": "code",
   "execution_count": 35,
   "id": "complete-officer",
   "metadata": {},
   "outputs": [
    {
     "data": {
      "text/plain": [
       "'prem'"
      ]
     },
     "execution_count": 35,
     "metadata": {},
     "output_type": "execute_result"
    }
   ],
   "source": [
    "'a' in data[6]"
   ]
  },
  {
   "cell_type": "code",
   "execution_count": 36,
   "id": "latest-rating",
   "metadata": {},
   "outputs": [
    {
     "data": {
      "text/plain": [
       "['mani', 'ram', 'ravi', 'sasi', 'sujay', 'anu', 'zeepra']"
      ]
     },
     "execution_count": 36,
     "metadata": {},
     "output_type": "execute_result"
    }
   ],
   "source": [
    "[i for i in data if 'a' in i]"
   ]
  },
  {
   "cell_type": "code",
   "execution_count": null,
   "id": "developing-marathon",
   "metadata": {},
   "outputs": [],
   "source": []
  },
  {
   "cell_type": "code",
   "execution_count": null,
   "id": "broadband-exchange",
   "metadata": {},
   "outputs": [],
   "source": []
  },
  {
   "cell_type": "code",
   "execution_count": null,
   "id": "popular-expansion",
   "metadata": {},
   "outputs": [],
   "source": []
  },
  {
   "cell_type": "code",
   "execution_count": null,
   "id": "photographic-swedish",
   "metadata": {},
   "outputs": [],
   "source": []
  },
  {
   "cell_type": "code",
   "execution_count": null,
   "id": "together-clone",
   "metadata": {},
   "outputs": [],
   "source": []
  },
  {
   "cell_type": "code",
   "execution_count": null,
   "id": "graduate-badge",
   "metadata": {},
   "outputs": [],
   "source": []
  },
  {
   "cell_type": "code",
   "execution_count": 38,
   "id": "built-facial",
   "metadata": {},
   "outputs": [
    {
     "data": {
      "text/plain": [
       "['prem', 'zero', 'zeepra']"
      ]
     },
     "execution_count": 38,
     "metadata": {},
     "output_type": "execute_result"
    }
   ],
   "source": [
    "[i for i in data if 'e' in i]"
   ]
  },
  {
   "cell_type": "code",
   "execution_count": 40,
   "id": "bridal-landing",
   "metadata": {},
   "outputs": [
    {
     "data": {
      "text/plain": [
       "['zeepra']"
      ]
     },
     "execution_count": 40,
     "metadata": {},
     "output_type": "execute_result"
    }
   ],
   "source": [
    "[i for i in data if 'ee' in i]"
   ]
  },
  {
   "cell_type": "code",
   "execution_count": 43,
   "id": "conservative-approval",
   "metadata": {},
   "outputs": [
    {
     "data": {
      "text/plain": [
       "True"
      ]
     },
     "execution_count": 43,
     "metadata": {},
     "output_type": "execute_result"
    }
   ],
   "source": [
    "1 in [1,2,3,4,5]"
   ]
  },
  {
   "cell_type": "code",
   "execution_count": 44,
   "id": "constitutional-likelihood",
   "metadata": {},
   "outputs": [],
   "source": [
    "a= [1,2,3,4]"
   ]
  },
  {
   "cell_type": "code",
   "execution_count": 46,
   "id": "directed-limitation",
   "metadata": {},
   "outputs": [
    {
     "data": {
      "text/plain": [
       "True"
      ]
     },
     "execution_count": 46,
     "metadata": {},
     "output_type": "execute_result"
    }
   ],
   "source": [
    "a[0]==1"
   ]
  },
  {
   "cell_type": "code",
   "execution_count": null,
   "id": "municipal-cycle",
   "metadata": {},
   "outputs": [],
   "source": []
  }
 ],
 "metadata": {
  "kernelspec": {
   "display_name": "Python 3",
   "language": "python",
   "name": "python3"
  },
  "language_info": {
   "codemirror_mode": {
    "name": "ipython",
    "version": 3
   },
   "file_extension": ".py",
   "mimetype": "text/x-python",
   "name": "python",
   "nbconvert_exporter": "python",
   "pygments_lexer": "ipython3",
   "version": "3.8.7"
  }
 },
 "nbformat": 4,
 "nbformat_minor": 5
}
