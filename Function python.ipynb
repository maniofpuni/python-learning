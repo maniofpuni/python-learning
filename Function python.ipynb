{
 "cells": [
  {
   "cell_type": "code",
   "execution_count": 1,
   "id": "helpful-initial",
   "metadata": {},
   "outputs": [],
   "source": [
    "#function means "
   ]
  },
  {
   "cell_type": "code",
   "execution_count": 2,
   "id": "artistic-sunset",
   "metadata": {},
   "outputs": [],
   "source": [
    "def functionname():\n",
    "    return 'functionname'"
   ]
  },
  {
   "cell_type": "code",
   "execution_count": 3,
   "id": "vulnerable-electronics",
   "metadata": {},
   "outputs": [
    {
     "data": {
      "text/plain": [
       "'functionname'"
      ]
     },
     "execution_count": 3,
     "metadata": {},
     "output_type": "execute_result"
    }
   ],
   "source": [
    "functionname()"
   ]
  },
  {
   "cell_type": "code",
   "execution_count": 4,
   "id": "recreational-friendly",
   "metadata": {},
   "outputs": [],
   "source": [
    "def add(a,b):\n",
    "    return a+b "
   ]
  },
  {
   "cell_type": "code",
   "execution_count": 5,
   "id": "specified-cooking",
   "metadata": {},
   "outputs": [
    {
     "data": {
      "text/plain": [
       "3"
      ]
     },
     "execution_count": 5,
     "metadata": {},
     "output_type": "execute_result"
    }
   ],
   "source": [
    "add(1,2)"
   ]
  },
  {
   "cell_type": "code",
   "execution_count": 6,
   "id": "standing-precipitation",
   "metadata": {},
   "outputs": [],
   "source": [
    "def sub(a,b):\n",
    "    return a-b"
   ]
  },
  {
   "cell_type": "code",
   "execution_count": 8,
   "id": "demonstrated-growth",
   "metadata": {},
   "outputs": [
    {
     "data": {
      "text/plain": [
       "1"
      ]
     },
     "execution_count": 8,
     "metadata": {},
     "output_type": "execute_result"
    }
   ],
   "source": [
    "sub(2,1)"
   ]
  },
  {
   "cell_type": "code",
   "execution_count": 11,
   "id": "comparable-dakota",
   "metadata": {},
   "outputs": [],
   "source": [
    "def add(a,b,c,d):\n",
    "    data = a+b+c+d\n",
    "    return data\n",
    "#     return a+b+c+d"
   ]
  },
  {
   "cell_type": "code",
   "execution_count": 12,
   "id": "pursuant-colony",
   "metadata": {},
   "outputs": [
    {
     "data": {
      "text/plain": [
       "10"
      ]
     },
     "execution_count": 12,
     "metadata": {},
     "output_type": "execute_result"
    }
   ],
   "source": [
    "add(1,2,3,4)"
   ]
  },
  {
   "cell_type": "code",
   "execution_count": 13,
   "id": "therapeutic-siemens",
   "metadata": {},
   "outputs": [],
   "source": [
    "import time"
   ]
  },
  {
   "cell_type": "code",
   "execution_count": 15,
   "id": "dying-donor",
   "metadata": {},
   "outputs": [],
   "source": [
    "time.sleep(5)"
   ]
  },
  {
   "cell_type": "code",
   "execution_count": 19,
   "id": "desperate-walker",
   "metadata": {},
   "outputs": [
    {
     "name": "stdout",
     "output_type": "stream",
     "text": [
      "Hi punitha how are you:\n",
      "I am fine what  about you\n",
      "maybe  I am love with you\n"
     ]
    }
   ],
   "source": [
    "print (\"Hi punitha how are you:\")\n",
    "time.sleep(5)\n",
    "print (\"I am fine what  about you\")\n",
    "time.sleep(5)\n",
    "print (\"maybe  I am love with you\")"
   ]
  },
  {
   "cell_type": "code",
   "execution_count": null,
   "id": "parallel-agenda",
   "metadata": {},
   "outputs": [],
   "source": [
    "from tkinter import *\n",
    "root = Tk()\n",
    "myCanvas = Canvas(root)\n",
    "myCanvas.pack()\n",
    "\n",
    "def create_circle(x, y, r, canvasName): #center coordinates, radius\n",
    "    x0 = x - r\n",
    "    y0 = y - r\n",
    "    x1 = x + r\n",
    "    y1 = y + r\n",
    "    return canvasName.create_oval(x0, y0, x1, y1)\n",
    "\n",
    "create_circle(100, 100, 20, myCanvas)\n",
    "create_circle(50, 25, 10, myCanvas)\n",
    "root.mainloop()"
   ]
  },
  {
   "cell_type": "code",
   "execution_count": null,
   "id": "innocent-financing",
   "metadata": {},
   "outputs": [],
   "source": []
  }
 ],
 "metadata": {
  "kernelspec": {
   "display_name": "Python 3",
   "language": "python",
   "name": "python3"
  },
  "language_info": {
   "codemirror_mode": {
    "name": "ipython",
    "version": 3
   },
   "file_extension": ".py",
   "mimetype": "text/x-python",
   "name": "python",
   "nbconvert_exporter": "python",
   "pygments_lexer": "ipython3",
   "version": "3.8.7"
  }
 },
 "nbformat": 4,
 "nbformat_minor": 5
}
